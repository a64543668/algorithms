{
 "cells": [
  {
   "cell_type": "markdown",
   "id": "floating-nursery",
   "metadata": {},
   "source": [
    "# Get the stop words"
   ]
  },
  {
   "cell_type": "code",
   "execution_count": 18,
   "id": "flexible-amber",
   "metadata": {},
   "outputs": [],
   "source": [
    "import nltk\n",
    "from nltk.corpus import stopwords\n",
    "import re\n",
    "import numpy"
   ]
  },
  {
   "cell_type": "markdown",
   "id": "invalid-fleece",
   "metadata": {},
   "source": [
    "# Tokenize All Sentences"
   ]
  },
  {
   "cell_type": "code",
   "execution_count": 6,
   "id": "first-burke",
   "metadata": {},
   "outputs": [],
   "source": [
    "def word_extraction(sentence):\n",
    "    ignore = set(stopwords.words('english'))\n",
    "    words = re.sub(\"[^\\w]\", \" \",  sentence).split()\n",
    "    cleaned_text = [w.lower() for w in words if w not in ignore]\n",
    "    return cleaned_text"
   ]
  },
  {
   "cell_type": "markdown",
   "id": "acknowledged-platinum",
   "metadata": {},
   "source": [
    "# Apply tokenization to all sentences"
   ]
  },
  {
   "cell_type": "code",
   "execution_count": 11,
   "id": "italian-laptop",
   "metadata": {},
   "outputs": [],
   "source": [
    "def tokenize(sentences):\n",
    "    words = []\n",
    "    for sentence in sentences:\n",
    "        w = word_extraction(sentence)\n",
    "        words.extend(w)\n",
    "        words = sorted(list(set(words)))\n",
    "    return words"
   ]
  },
  {
   "cell_type": "markdown",
   "id": "stopped-friendship",
   "metadata": {},
   "source": [
    "# Build vocabulary and generate vectors"
   ]
  },
  {
   "cell_type": "code",
   "execution_count": 12,
   "id": "improved-cream",
   "metadata": {},
   "outputs": [],
   "source": [
    "def generate_bow(allsentences):        \n",
    "    vocab = tokenize(allsentences)    \n",
    "    print(\"Word List for Document \\n{0} \\n\".format(vocab))\n",
    "    for sentence in allsentences:        \n",
    "        words = word_extraction(sentence)        \n",
    "        bag_vector = numpy.zeros(len(vocab))        \n",
    "        for w in words:            \n",
    "            for i,word in enumerate(vocab):                \n",
    "                if word == w:                     \n",
    "                    bag_vector[i] += 1                            \n",
    "        print(\"{0}\\n{1}\\n\".format(sentence,numpy.array(bag_vector)))"
   ]
  },
  {
   "cell_type": "markdown",
   "id": "painful-reference",
   "metadata": {},
   "source": [
    "# Test the Function"
   ]
  },
  {
   "cell_type": "code",
   "execution_count": 16,
   "id": "executive-greeting",
   "metadata": {},
   "outputs": [],
   "source": [
    "allsentences = [\"Joe waited for the train train\", \"The train was late\", \"Mary and Samantha took the bus\"]"
   ]
  },
  {
   "cell_type": "code",
   "execution_count": 19,
   "id": "right-midwest",
   "metadata": {},
   "outputs": [
    {
     "name": "stdout",
     "output_type": "stream",
     "text": [
      "Word List for Document \n",
      "['bus', 'joe', 'late', 'mary', 'samantha', 'the', 'took', 'train', 'waited'] \n",
      "\n",
      "Joe waited for the train train\n",
      "[0. 1. 0. 0. 0. 0. 0. 2. 1.]\n",
      "\n",
      "The train was late\n",
      "[0. 0. 1. 0. 0. 1. 0. 1. 0.]\n",
      "\n",
      "Mary and Samantha took the bus\n",
      "[1. 0. 0. 1. 1. 0. 1. 0. 0.]\n",
      "\n"
     ]
    }
   ],
   "source": [
    "generate_bow(allsentences)"
   ]
  },
  {
   "cell_type": "code",
   "execution_count": null,
   "id": "hawaiian-deposit",
   "metadata": {},
   "outputs": [],
   "source": []
  }
 ],
 "metadata": {
  "kernelspec": {
   "display_name": "Python 3",
   "language": "python",
   "name": "python3"
  },
  "language_info": {
   "codemirror_mode": {
    "name": "ipython",
    "version": 3
   },
   "file_extension": ".py",
   "mimetype": "text/x-python",
   "name": "python",
   "nbconvert_exporter": "python",
   "pygments_lexer": "ipython3",
   "version": "3.7.3"
  }
 },
 "nbformat": 4,
 "nbformat_minor": 5
}
