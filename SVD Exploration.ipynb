{
 "cells": [
  {
   "cell_type": "markdown",
   "id": "swiss-interstate",
   "metadata": {},
   "source": [
    "# Generate Data Points"
   ]
  },
  {
   "cell_type": "code",
   "execution_count": 31,
   "id": "disciplinary-river",
   "metadata": {},
   "outputs": [],
   "source": [
    "# Generat 10 (x,y) that are linear correlated\n",
    "from sklearn.datasets import make_regression\n",
    "import numpy as np\n",
    "n=5\n",
    "x,y,coef=make_regression(n_samples=n,\n",
    "                         n_features=1,\n",
    "                         n_informative=1,\n",
    "                         random_state=0,\n",
    "                         noise=20.0,\n",
    "                         coef=True)"
   ]
  },
  {
   "cell_type": "code",
   "execution_count": 32,
   "id": "noble-tonight",
   "metadata": {},
   "outputs": [
    {
     "data": {
      "text/plain": [
       "<matplotlib.collections.PathCollection at 0x2b758b324e0>"
      ]
     },
     "execution_count": 32,
     "metadata": {},
     "output_type": "execute_result"
    },
    {
     "data": {
      "image/png": "[encoded data removed]",
      "text/plain": [
       "<Figure size 432x288 with 1 Axes>"
      ]
     },
     "metadata": {},
     "output_type": "display_data"
    }
   ],
   "source": [
    "from matplotlib import pyplot as plt\n",
    "import seaborn as sns\n",
    "%matplotlib inline\n",
    "sns.set_style('whitegrid')\n",
    "plt.scatter(x, y, c='r', marker='s')"
   ]
  },
  {
   "cell_type": "code",
   "execution_count": 33,
   "id": "entire-subscriber",
   "metadata": {},
   "outputs": [],
   "source": [
    "# Formulte 10 (x,y) obersevations into a matrix\n",
    "import numpy as np\n",
    "xy_matrix=np.column_stack((x, y))"
   ]
  },
  {
   "cell_type": "code",
   "execution_count": 200,
   "id": "ambient-operator",
   "metadata": {},
   "outputs": [
    {
     "name": "stdout",
     "output_type": "stream",
     "text": [
      "[[  0.97873798  32.71079171]\n",
      " [  2.2408932  148.96263615]\n",
      " [  1.76405235  57.64711706]\n",
      " [  1.86755799 103.33818754]\n",
      " [  0.40015721  42.83273828]]\n"
     ]
    }
   ],
   "source": [
    "print(xy_matrix)"
   ]
  },
  {
   "cell_type": "markdown",
   "id": "democratic-problem",
   "metadata": {},
   "source": [
    "# Standardize the Data"
   ]
  },
  {
   "cell_type": "code",
   "execution_count": 35,
   "id": "preceding-crossing",
   "metadata": {},
   "outputs": [],
   "source": [
    "# Let's standardize the data\n",
    "from sklearn import preprocessing\n",
    "standard_scaler=preprocessing.StandardScaler()\n",
    "scaled = standard_scaler.fit_transform(xy_matrix)"
   ]
  },
  {
   "cell_type": "code",
   "execution_count": 201,
   "id": "portable-participant",
   "metadata": {},
   "outputs": [
    {
     "name": "stdout",
     "output_type": "stream",
     "text": [
      "[[-0.70722819 -1.02504486]\n",
      " [ 1.18577858  1.65957016]\n",
      " [ 0.4706027  -0.4491879 ]\n",
      " [ 0.62584263  0.60596038]\n",
      " [-1.57499573 -0.79129778]]\n"
     ]
    }
   ],
   "source": [
    "print(scaled)"
   ]
  },
  {
   "cell_type": "code",
   "execution_count": 37,
   "id": "operational-saturday",
   "metadata": {},
   "outputs": [],
   "source": [
    "x_scaled=[row[0] for row in scaled]\n",
    "y_scaled=[row[1] for row in scaled]"
   ]
  },
  {
   "cell_type": "code",
   "execution_count": 38,
   "id": "front-starter",
   "metadata": {},
   "outputs": [
    {
     "data": {
      "text/plain": [
       "<matplotlib.collections.PathCollection at 0x2b758b96668>"
      ]
     },
     "execution_count": 38,
     "metadata": {},
     "output_type": "execute_result"
    },
    {
     "data": {
      "image/png": "[encoded data removed]",
      "text/plain": [
       "<Figure size 432x288 with 1 Axes>"
      ]
     },
     "metadata": {},
     "output_type": "display_data"
    }
   ],
   "source": [
    "# Plot scaled points\n",
    "plt.scatter(x_scaled, y_scaled, c='r', marker='s')"
   ]
  },
  {
   "cell_type": "markdown",
   "id": "bizarre-judgment",
   "metadata": {},
   "source": [
    "# Get SVD"
   ]
  },
  {
   "cell_type": "code",
   "execution_count": 39,
   "id": "artistic-tyler",
   "metadata": {},
   "outputs": [],
   "source": [
    "# Use svd (Single Value Decomposition) function to calculate U,s,V\n",
    "U,s,V=np.linalg.svd(scaled)"
   ]
  },
  {
   "cell_type": "code",
   "execution_count": 40,
   "id": "extra-cloud",
   "metadata": {},
   "outputs": [
    {
     "name": "stdout",
     "output_type": "stream",
     "text": [
      "[[-0.40589586  0.23780797  0.3030969   0.28014476 -0.77996609]\n",
      " [ 0.66670509 -0.35451701  0.58885854 -0.11087209 -0.26603572]\n",
      " [ 0.00501779  0.68823809  0.58977478 -0.04580537  0.41996515]\n",
      " [ 0.28862871  0.014877   -0.06546159  0.94042907  0.16667358]\n",
      " [-0.55445574 -0.58640606  0.45744768  0.15073593  0.34165344]]\n",
      "[3.01777414 0.94500752]\n",
      "[[ 0.70710678  0.70710678]\n",
      " [ 0.70710678 -0.70710678]]\n"
     ]
    }
   ],
   "source": [
    "print(U)\n",
    "print(s)\n",
    "print(V)"
   ]
  },
  {
   "cell_type": "markdown",
   "id": "motivated-battery",
   "metadata": {},
   "source": [
    "# Explore V"
   ]
  },
  {
   "cell_type": "code",
   "execution_count": 50,
   "id": "cellular-contractor",
   "metadata": {},
   "outputs": [
    {
     "data": {
      "image/png": "[encoded data removed]",
      "text/plain": [
       "<Figure size 432x288 with 1 Axes>"
      ]
     },
     "metadata": {},
     "output_type": "display_data"
    }
   ],
   "source": [
    "# V is a d*d matrix that indicates the rotation vector maximize the variance\n",
    "# This rotations would remove multilinearity because if one feature is highly correlated with another, the first component would doninate the variance\n",
    "plt.scatter(x_scaled, y_scaled, c='r', marker='s')\n",
    "plt.xlim(-2, 2)\n",
    "plt.ylim(-2, 2)\n",
    "plt.gca().set_aspect('equal', adjustable='box')\n",
    "plt.plot([0,V[0][0]], [0,V[0][1]])\n",
    "plt.plot([0,V[1][0]], [0,V[1][1]])\n",
    "plt.show()"
   ]
  },
  {
   "cell_type": "markdown",
   "id": "synthetic-average",
   "metadata": {},
   "source": [
    "# Explore s"
   ]
  },
  {
   "cell_type": "code",
   "execution_count": 196,
   "id": "olympic-roller",
   "metadata": {},
   "outputs": [
    {
     "data": {
      "text/plain": [
       "'76.15%'"
      ]
     },
     "execution_count": 196,
     "metadata": {},
     "output_type": "execute_result"
    }
   ],
   "source": [
    "# s is the square root of the sum of squared projection lengths of all points\n",
    "# The sum of projection lrnhyhd onto a specific axis represent how close all the points are to that axis\n",
    "# It also represents how much the projection that keep the overall variance\n",
    "# Therefore, with the first component, the variance kept is:\n",
    "str(round(s[0]/(s[0]+s[1])*100,2))+'%'"
   ]
  },
  {
   "cell_type": "markdown",
   "id": "changing-aquatic",
   "metadata": {},
   "source": [
    "# Explore U"
   ]
  },
  {
   "cell_type": "code",
   "execution_count": 168,
   "id": "renewable-automation",
   "metadata": {},
   "outputs": [
    {
     "name": "stdout",
     "output_type": "stream",
     "text": [
      "[[ 0.40589586+0.j         -0.88243749+0.j          0.23780797+0.j\n",
      "   0.19502433+0.16716061j  0.19502433-0.16716061j]\n",
      " [-0.66670509+0.j         -0.40220391+0.j         -0.35451701+0.j\n",
      "  -0.19834005-0.22188024j -0.19834005+0.22188024j]\n",
      " [-0.00501779+0.j          0.18316516+0.j          0.68823809+0.j\n",
      "  -0.23919339-0.50755496j -0.23919339+0.50755496j]\n",
      " [-0.28862871+0.j         -0.1287517 +0.j          0.014877  +0.j\n",
      "   0.6092489 +0.j          0.6092489 -0.j        ]\n",
      " [ 0.55445574+0.j          0.09700319+0.j         -0.58640606+0.j\n",
      "  -0.06627651-0.39376505j -0.06627651+0.39376505j]]\n"
     ]
    }
   ],
   "source": [
    "# U is the eigenvectors of A*A Transpose\n",
    "import scipy.linalg as la\n",
    "AAT=scaled.dot(scaled.T)\n",
    "results=la.eig(AAT)\n",
    "print(results[1])"
   ]
  },
  {
   "cell_type": "code",
   "execution_count": 169,
   "id": "balanced-collaboration",
   "metadata": {},
   "outputs": [],
   "source": [
    "S = np.zeros((scaled.shape[0], scaled.shape[1]))\n",
    "S[:scaled.shape[1], :scaled.shape[1]] = np.diag(s)\n",
    "n_component=1\n",
    "# Get reduced S\n",
    "# Get reduced V\n",
    "S_reduce = S[:, :n_component]\n",
    "V_reduce = V[:n_component, :]"
   ]
  },
  {
   "cell_type": "code",
   "execution_count": 170,
   "id": "behind-begin",
   "metadata": {},
   "outputs": [
    {
     "name": "stdout",
     "output_type": "stream",
     "text": [
      "[[-0.86613652 -0.86613652]\n",
      " [ 1.42267437  1.42267437]\n",
      " [ 0.0107074   0.0107074 ]\n",
      " [ 0.61590151  0.61590151]\n",
      " [-1.18314675 -1.18314675]]\n"
     ]
    }
   ],
   "source": [
    "# This would be the new matrix when complonent=1\n",
    "# The matrix represent a line that you could see the dimention was reduced from 2-D plane to a 1-D line\n",
    "A=U.dot(S_reduce.dot(V_reduce))\n",
    "print(A)"
   ]
  },
  {
   "cell_type": "code",
   "execution_count": 179,
   "id": "christian-nicaragua",
   "metadata": {},
   "outputs": [
    {
     "data": {
      "text/plain": [
       "[<matplotlib.lines.Line2D at 0x2b758d81f98>]"
      ]
     },
     "execution_count": 179,
     "metadata": {},
     "output_type": "execute_result"
    },
    {
     "data": {
      "image/png": "[encoded data removed]",
      "text/plain": [
       "<Figure size 432x288 with 1 Axes>"
      ]
     },
     "metadata": {},
     "output_type": "display_data"
    }
   ],
   "source": [
    "# If we use the compressed matrix to draw the line. This matrix is exactly the projection of 5 observation on the line\n",
    "sns.set_style('whitegrid')\n",
    "plt.xlim(-2, 2)\n",
    "plt.ylim(-2, 2)\n",
    "plt.gca().set_aspect('equal', adjustable='box')\n",
    "plt.scatter(x_scaled, y_scaled, c='r', marker='s')\n",
    "A_x=[row[0] for row in A]\n",
    "A_y=[row[1] for row in A]\n",
    "plt.plot(A_x, A_y, linestyle='--', marker='o', color='b')"
   ]
  },
  {
   "cell_type": "code",
   "execution_count": 186,
   "id": "smart-poverty",
   "metadata": {},
   "outputs": [
    {
     "data": {
      "text/plain": [
       "array([[-1.22490202],\n",
       "       [ 2.01196539],\n",
       "       [ 0.01514255],\n",
       "       [ 0.87101626],\n",
       "       [-1.67322218]])"
      ]
     },
     "execution_count": 186,
     "metadata": {},
     "output_type": "execute_result"
    }
   ],
   "source": [
    "# if we rotate A based on vecotr, we would get the distance between the dots in the line and 0.\n",
    "# Then we could use this matrix as a one-dimentional component, the dimention was reduced\n",
    "A.dot(V_reduce.T)"
   ]
  },
  {
   "cell_type": "code",
   "execution_count": 205,
   "id": "upset-delay",
   "metadata": {},
   "outputs": [
    {
     "data": {
      "text/plain": [
       "array([3.01777414])"
      ]
     },
     "execution_count": 205,
     "metadata": {},
     "output_type": "execute_result"
    }
   ],
   "source": [
    "# s would be the square root of sum of projection distances in the vector\n",
    "np.sqrt(sum(A.dot(V_reduce.T)**2))"
   ]
  },
  {
   "cell_type": "code",
   "execution_count": 185,
   "id": "roman-eagle",
   "metadata": {},
   "outputs": [
    {
     "name": "stdout",
     "output_type": "stream",
     "text": [
      "1.224902020063899\n",
      "2.0119653880453976\n",
      "0.015142551230337033\n",
      "0.871016263161619\n",
      "1.6732221823734545\n"
     ]
    }
   ],
   "source": [
    "# Calculate the distance between each point in the fitting line with 0\n",
    "import math\n",
    "for i in A:\n",
    "    print(math.sqrt( ((i[0]-0)**2)+((i[1]-0)**2) ))"
   ]
  },
  {
   "cell_type": "code",
   "execution_count": 150,
   "id": "cathedral-static",
   "metadata": {},
   "outputs": [
    {
     "data": {
      "text/plain": [
       "array([[-0.70722819, -1.02504486],\n",
       "       [ 1.18577858,  1.65957016],\n",
       "       [ 0.4706027 , -0.4491879 ],\n",
       "       [ 0.62584263,  0.60596038],\n",
       "       [-1.57499573, -0.79129778]])"
      ]
     },
     "execution_count": 150,
     "metadata": {},
     "output_type": "execute_result"
    }
   ],
   "source": [
    "# Compare with original matrix, the component contains 76.15% variance\n",
    "scaled"
   ]
  },
  {
   "cell_type": "code",
   "execution_count": 145,
   "id": "greenhouse-ottawa",
   "metadata": {},
   "outputs": [],
   "source": [
    "# If we select component=2, the compoent matrix would be the same with original matrix\n",
    "n_component=2\n",
    "S_reduce = S[:, :n_component]\n",
    "V_reduce = V[:n_component, :]"
   ]
  },
  {
   "cell_type": "code",
   "execution_count": 149,
   "id": "raised-version",
   "metadata": {},
   "outputs": [
    {
     "data": {
      "text/plain": [
       "array([[-0.70722819, -1.02504486],\n",
       "       [ 1.18577858,  1.65957016],\n",
       "       [ 0.4706027 , -0.4491879 ],\n",
       "       [ 0.62584263,  0.60596038],\n",
       "       [-1.57499573, -0.79129778]])"
      ]
     },
     "execution_count": 149,
     "metadata": {},
     "output_type": "execute_result"
    }
   ],
   "source": [
    "U.dot(S_reduce.dot(V_reduce))"
   ]
  },
  {
   "cell_type": "markdown",
   "id": "increasing-involvement",
   "metadata": {},
   "source": [
    "# Run Linear Regression Mode to Get Regression Line"
   ]
  },
  {
   "cell_type": "code",
   "execution_count": 190,
   "id": "found-lighting",
   "metadata": {},
   "outputs": [
    {
     "name": "stdout",
     "output_type": "stream",
     "text": [
      "                            OLS Regression Results                            \n",
      "==============================================================================\n",
      "Dep. Variable:                      y   R-squared:                       0.675\n",
      "Model:                            OLS   Adj. R-squared:                  0.566\n",
      "Method:                 Least Squares   F-statistic:                     6.222\n",
      "Date:                Sun, 21 Mar 2021   Prob (F-statistic):             0.0881\n",
      "Time:                        13:18:18   Log-Likelihood:                -4.2873\n",
      "No. Observations:                   5   AIC:                             12.57\n",
      "Df Residuals:                       3   BIC:                             11.79\n",
      "Df Model:                           1                                         \n",
      "Covariance Type:            nonrobust                                         \n",
      "==============================================================================\n",
      "                 coef    std err          t      P>|t|      [0.025      0.975]\n",
      "------------------------------------------------------------------------------\n",
      "const      -2.359e-16      0.329  -7.16e-16      1.000      -1.048       1.048\n",
      "x1             0.8214      0.329      2.494      0.088      -0.227       1.869\n",
      "==============================================================================\n",
      "Omnibus:                          nan   Durbin-Watson:                   2.840\n",
      "Prob(Omnibus):                    nan   Jarque-Bera (JB):                0.496\n",
      "Skew:                          -0.239   Prob(JB):                        0.781\n",
      "Kurtosis:                       1.533   Cond. No.                         1.00\n",
      "==============================================================================\n",
      "\n",
      "Notes:\n",
      "[1] Standard Errors assume that the covariance matrix of the errors is correctly specified.\n"
     ]
    },
    {
     "name": "stderr",
     "output_type": "stream",
     "text": [
      "C:\\Users\\xue.ju\\AppData\\Local\\Continuum\\anaconda\\lib\\site-packages\\statsmodels\\stats\\stattools.py:75: ValueWarning: omni_normtest is not valid with less than 8 observations; 5 samples were given.\n",
      "  \"samples were given.\" % int(n), ValueWarning)\n"
     ]
    }
   ],
   "source": [
    "import statsmodels.api as sm\n",
    "X = sm.add_constant(x_scaled)\n",
    "model = sm.OLS(y_scaled, X).fit()\n",
    "print_model = model.summary()\n",
    "print(print_model)"
   ]
  },
  {
   "cell_type": "code",
   "execution_count": 197,
   "id": "heated-massachusetts",
   "metadata": {},
   "outputs": [
    {
     "data": {
      "image/png": "[encoded data removed]",
      "text/plain": [
       "<Figure size 1152x576 with 1 Axes>"
      ]
     },
     "metadata": {},
     "output_type": "display_data"
    }
   ],
   "source": [
    "# Draw both regression line and SVD reduction line\n",
    "plt.plot(x_scaled, y_scaled, 'o')\n",
    "m=0.8214\n",
    "b=-2.359e-16\n",
    "plt.plot(scaled, m*scaled + b)\n",
    "plt.plot(scaled, 1*scaled + 0)\n",
    "plt.show()"
   ]
  },
  {
   "cell_type": "markdown",
   "id": "surface-horizontal",
   "metadata": {},
   "source": [
    "# Calculate PCA"
   ]
  },
  {
   "cell_type": "code",
   "execution_count": 198,
   "id": "applied-wrong",
   "metadata": {},
   "outputs": [],
   "source": [
    "from sklearn.decomposition import PCA\n",
    "import pandas as pd\n",
    "from sklearn import preprocessing\n",
    "pca=PCA(n_components=1)\n",
    "components=pca.fit_transform(scaled)\n",
    "componentsDf=pd.DataFrame(data=components, columns=['component'+str(i) for i in range(1,2)])"
   ]
  },
  {
   "cell_type": "code",
   "execution_count": 199,
   "id": "worst-hopkins",
   "metadata": {},
   "outputs": [
    {
     "data": {
      "text/html": [
       "<div>\n",
       "<style scoped>\n",
       "    .dataframe tbody tr th:only-of-type {\n",
       "        vertical-align: middle;\n",
       "    }\n",
       "\n",
       "    .dataframe tbody tr th {\n",
       "        vertical-align: top;\n",
       "    }\n",
       "\n",
       "    .dataframe thead th {\n",
       "        text-align: right;\n",
       "    }\n",
       "</style>\n",
       "<table border=\"1\" class=\"dataframe\">\n",
       "  <thead>\n",
       "    <tr style=\"text-align: right;\">\n",
       "      <th></th>\n",
       "      <th>component1</th>\n",
       "    </tr>\n",
       "  </thead>\n",
       "  <tbody>\n",
       "    <tr>\n",
       "      <th>0</th>\n",
       "      <td>-1.224902</td>\n",
       "    </tr>\n",
       "    <tr>\n",
       "      <th>1</th>\n",
       "      <td>2.011965</td>\n",
       "    </tr>\n",
       "    <tr>\n",
       "      <th>2</th>\n",
       "      <td>0.015143</td>\n",
       "    </tr>\n",
       "    <tr>\n",
       "      <th>3</th>\n",
       "      <td>0.871016</td>\n",
       "    </tr>\n",
       "    <tr>\n",
       "      <th>4</th>\n",
       "      <td>-1.673222</td>\n",
       "    </tr>\n",
       "  </tbody>\n",
       "</table>\n",
       "</div>"
      ],
      "text/plain": [
       "   component1\n",
       "0   -1.224902\n",
       "1    2.011965\n",
       "2    0.015143\n",
       "3    0.871016\n",
       "4   -1.673222"
      ]
     },
     "execution_count": 199,
     "metadata": {},
     "output_type": "execute_result"
    }
   ],
   "source": [
    "# The PCA would be aligned with the one-dimentional component we get from SVD\n",
    "componentsDf"
   ]
  },
  {
   "cell_type": "code",
   "execution_count": null,
   "id": "monetary-fashion",
   "metadata": {},
   "outputs": [],
   "source": []
  }
 ],
 "metadata": {
  "kernelspec": {
   "display_name": "Python 3",
   "language": "python",
   "name": "python3"
  },
  "language_info": {
   "codemirror_mode": {
    "name": "ipython",
    "version": 3
   },
   "file_extension": ".py",
   "mimetype": "text/x-python",
   "name": "python",
   "nbconvert_exporter": "python",
   "pygments_lexer": "ipython3",
   "version": "3.7.3"
  }
 },
 "nbformat": 4,
 "nbformat_minor": 5
}
