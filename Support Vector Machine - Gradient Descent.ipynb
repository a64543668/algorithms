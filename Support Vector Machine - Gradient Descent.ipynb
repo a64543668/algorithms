{
 "cells": [
  {
   "cell_type": "markdown",
   "id": "chicken-powder",
   "metadata": {},
   "source": [
    "# Read Data"
   ]
  },
  {
   "cell_type": "code",
   "execution_count": 1,
   "id": "played-mixer",
   "metadata": {},
   "outputs": [
    {
     "data": {
      "text/html": [
       "<div>\n",
       "<style scoped>\n",
       "    .dataframe tbody tr th:only-of-type {\n",
       "        vertical-align: middle;\n",
       "    }\n",
       "\n",
       "    .dataframe tbody tr th {\n",
       "        vertical-align: top;\n",
       "    }\n",
       "\n",
       "    .dataframe thead th {\n",
       "        text-align: right;\n",
       "    }\n",
       "</style>\n",
       "<table border=\"1\" class=\"dataframe\">\n",
       "  <thead>\n",
       "    <tr style=\"text-align: right;\">\n",
       "      <th></th>\n",
       "      <th>sepal.length</th>\n",
       "      <th>petal.length</th>\n",
       "      <th>variety</th>\n",
       "    </tr>\n",
       "  </thead>\n",
       "  <tbody>\n",
       "    <tr>\n",
       "      <th>0</th>\n",
       "      <td>5.1</td>\n",
       "      <td>1.4</td>\n",
       "      <td>Setosa</td>\n",
       "    </tr>\n",
       "    <tr>\n",
       "      <th>1</th>\n",
       "      <td>4.9</td>\n",
       "      <td>1.4</td>\n",
       "      <td>Setosa</td>\n",
       "    </tr>\n",
       "    <tr>\n",
       "      <th>2</th>\n",
       "      <td>4.7</td>\n",
       "      <td>1.3</td>\n",
       "      <td>Setosa</td>\n",
       "    </tr>\n",
       "    <tr>\n",
       "      <th>3</th>\n",
       "      <td>4.6</td>\n",
       "      <td>1.5</td>\n",
       "      <td>Setosa</td>\n",
       "    </tr>\n",
       "    <tr>\n",
       "      <th>4</th>\n",
       "      <td>5.0</td>\n",
       "      <td>1.4</td>\n",
       "      <td>Setosa</td>\n",
       "    </tr>\n",
       "  </tbody>\n",
       "</table>\n",
       "</div>"
      ],
      "text/plain": [
       "   sepal.length  petal.length variety\n",
       "0           5.1           1.4  Setosa\n",
       "1           4.9           1.4  Setosa\n",
       "2           4.7           1.3  Setosa\n",
       "3           4.6           1.5  Setosa\n",
       "4           5.0           1.4  Setosa"
      ]
     },
     "execution_count": 1,
     "metadata": {},
     "output_type": "execute_result"
    }
   ],
   "source": [
    "# Read data\n",
    "import pandas as pd\n",
    "df=pd.read_csv('iris.csv')\n",
    "s=set()\n",
    "s=list(s)\n",
    "# Only select two values in the dependent variable to make it binary classification problem\n",
    "# Only pick 2 feature in order to make easier for modelling and visulisation\n",
    "df=df[df['variety'].isin(['Setosa', 'Versicolor'])]\n",
    "df=df[['sepal.length','petal.length', 'variety']]\n",
    "df.head()"
   ]
  },
  {
   "cell_type": "code",
   "execution_count": 26,
   "id": "pediatric-scholarship",
   "metadata": {},
   "outputs": [],
   "source": [
    "from sklearn.preprocessing import MinMaxScaler\n",
    "# Impute the target variable with [-1,1]\n",
    "df=df.replace(regex={'Setosa': -1, 'Versicolor': 1})\n",
    "Y=df.loc[:, 'variety']\n",
    "X=df.iloc[:, :2]\n",
    "# Normalize it\n",
    "X_normalized=MinMaxScaler().fit_transform(X)\n",
    "X=pd.DataFrame(X_normalized)\n",
    "# Insert a constant value for intercept b\n",
    "X.insert(loc=len(X.columns), column='intercept', value=1)\n",
    "# Let's split the data\n",
    "from sklearn.model_selection import train_test_split\n",
    "x_train, x_test, y_train, y_test = train_test_split(X, Y, train_size=0.9, random_state=42)"
   ]
  },
  {
   "cell_type": "markdown",
   "id": "demanding-blond",
   "metadata": {},
   "source": [
    "# Gradient Descent"
   ]
  },
  {
   "cell_type": "code",
   "execution_count": 3,
   "id": "alternate-finland",
   "metadata": {},
   "outputs": [],
   "source": [
    "# SVM Loss Function"
   ]
  },
  {
   "cell_type": "markdown",
   "id": "liked-progressive",
   "metadata": {},
   "source": [
    "<img src=\"SVM Loss Function.png\" width=\"608\" height=\"456\" style=\"float:left\"/>"
   ]
  },
  {
   "cell_type": "code",
   "execution_count": 4,
   "id": "prostate-airfare",
   "metadata": {},
   "outputs": [],
   "source": [
    "import numpy as np\n",
    "from sklearn.utils import shuffle\n",
    "def cost_function(W, X, Y):\n",
    "    # hinge loss (missclassification loss)\n",
    "    N=X.shape[0]\n",
    "    distances=1-Y*(np.dot(X, W))\n",
    "    distances[distances<0]=0 # this is represent the max(0, distances)\n",
    "    hinge_loss=reg_strength*(np.sum(distances)/N)\n",
    "    \n",
    "    # Cost (margin width + hinge loss)\n",
    "    cost=1/2*np.dot(W, W) + hinge_loss\n",
    "    return cost"
   ]
  },
  {
   "cell_type": "code",
   "execution_count": 5,
   "id": "continued-dodge",
   "metadata": {},
   "outputs": [],
   "source": [
    "# We would use Stochastic Gradient Descent or SGD to get optimum. For SVM we could always get global optimum\n",
    "# Gradient descent algorithm works as follows:\n",
    "# 1. Find the gradient of cost function i.e. ∇J(w’)\n",
    "# 2. Move opposite to the gradient by a certain rate i.e. w’ = w’ — ∝(∇J(w’))\n",
    "# 3. Repeat step 1–3 until convergence i.e we found w’ where J(w) is smallest\n",
    "\n",
    "# The gradient descent of cost function\n",
    "def calculate_cost_gradient(W, X_batch, Y_batch):\n",
    "    if type(Y_batch) == np.int64:\n",
    "        Y_batch = np.array([Y_batch])\n",
    "        X_batch = np.array([X_batch])\n",
    "    distance = 1 - (Y_batch * np.dot(X_batch, W))\n",
    "    dw = np.zeros(len(W))\n",
    "    \n",
    "    for ind, d in enumerate(distance):\n",
    "        if max(0,d)==0:\n",
    "            di=W\n",
    "        else:\n",
    "            di=W-(reg_strength * Y_batch[ind] * X_batch[ind])\n",
    "        dw+=di\n",
    "    \n",
    "    dw=dw/len(Y_batch) # average cost\n",
    "    return dw"
   ]
  },
  {
   "cell_type": "code",
   "execution_count": 6,
   "id": "usual-labor",
   "metadata": {},
   "outputs": [],
   "source": [
    "# Define SGD iteration function\n",
    "def sgd(features, outputs):\n",
    "    epoch_list=[]\n",
    "    cost_list=[]\n",
    "    max_epochs=2000\n",
    "    weights=np.zeros(features.shape[1])\n",
    "    nth=0\n",
    "    prev_cost = float(\"inf\")\n",
    "    cost_threshold = 0.01\n",
    "    # stochastic gradient descent\n",
    "    for epoch in range(1, max_epochs):\n",
    "        # shuffle to prevent repeating update cycles\n",
    "        X, Y=shuffle(features, outputs)\n",
    "        for ind, x in enumerate(X):\n",
    "            ascent=calculate_cost_gradient(weights, x, Y[ind])\n",
    "            weights=weights-(learning_rate*ascent)\n",
    "        # convergence check on 2^nth epoch\n",
    "        if epoch == 2 ** nth or epoch == max_epochs - 1:\n",
    "            cost = cost_function(weights, features, outputs)\n",
    "            cost_list.append(cost)\n",
    "            epoch_list.append(epoch)\n",
    "            print(\"Epoch is:{} and Cost is: {}\".format(epoch, cost))\n",
    "            print(\"W is {}\".format(weights))\n",
    "            # stoppage criterion\n",
    "            if abs(prev_cost - cost) < cost_threshold * prev_cost:\n",
    "                return weights, cost_list, epoch_list\n",
    "            prev_cost = cost\n",
    "            nth += 1\n",
    "    return weights, cost_list, epoch_list"
   ]
  },
  {
   "cell_type": "markdown",
   "id": "sudden-connectivity",
   "metadata": {},
   "source": [
    "# Train the Model"
   ]
  },
  {
   "cell_type": "code",
   "execution_count": 7,
   "id": "exact-rider",
   "metadata": {
    "scrolled": true
   },
   "outputs": [
    {
     "name": "stdout",
     "output_type": "stream",
     "text": [
      "Epoch is:1 and Cost is: 2506.451873000058\n",
      "W is [ 0.65152112  1.92101713 -1.19973101]\n",
      "Epoch is:2 and Cost is: 705.6006217836884\n",
      "W is [ 0.79526384  2.95044029 -1.59845778]\n",
      "Epoch is:4 and Cost is: 345.14050495382344\n",
      "W is [ 0.75312757  3.77115491 -1.79535131]\n",
      "Epoch is:8 and Cost is: 199.00493108455\n",
      "W is [ 0.6394916   4.53185803 -1.8884902 ]\n",
      "Epoch is:16 and Cost is: 81.08977722743812\n",
      "W is [ 0.41369952  5.32288839 -2.07390479]\n",
      "Epoch is:32 and Cost is: 62.1429646845039\n",
      "W is [ 0.30895068  5.91466586 -2.24211486]\n",
      "Epoch is:64 and Cost is: 52.69072003706911\n",
      "W is [ 0.40553042  6.56847313 -2.57380493]\n",
      "Epoch is:128 and Cost is: 30.125892623000528\n",
      "W is [ 0.69334603  7.23656475 -2.72087986]\n",
      "Epoch is:256 and Cost is: 34.14628346057076\n",
      "W is [ 0.86941285  7.2022103  -2.70439542]\n",
      "Epoch is:512 and Cost is: 30.28041334994466\n",
      "W is [ 0.85015433  7.22228275 -2.77068515]\n",
      "Epoch is:1024 and Cost is: 35.155600194102206\n",
      "W is [ 0.88150735  7.16671433 -2.8035516 ]\n",
      "Epoch is:1999 and Cost is: 30.668746193323685\n",
      "W is [ 0.84603759  7.26954882 -2.78843552]\n"
     ]
    }
   ],
   "source": [
    "reg_strength=10000\n",
    "learning_rate = 0.00001\n",
    "W, Cost, Epoch= sgd(x_train.to_numpy(), y_train.to_numpy())"
   ]
  },
  {
   "cell_type": "code",
   "execution_count": 8,
   "id": "revised-source",
   "metadata": {},
   "outputs": [
    {
     "data": {
      "text/plain": [
       "[2506.451873000058,\n",
       " 705.6006217836884,\n",
       " 345.14050495382344,\n",
       " 199.00493108455,\n",
       " 81.08977722743812,\n",
       " 62.1429646845039,\n",
       " 52.69072003706911,\n",
       " 30.125892623000528,\n",
       " 34.14628346057076,\n",
       " 30.28041334994466,\n",
       " 35.155600194102206,\n",
       " 30.668746193323685]"
      ]
     },
     "execution_count": 8,
     "metadata": {},
     "output_type": "execute_result"
    }
   ],
   "source": [
    "Cost"
   ]
  },
  {
   "cell_type": "code",
   "execution_count": 9,
   "id": "local-arcade",
   "metadata": {},
   "outputs": [
    {
     "data": {
      "text/plain": [
       "[1, 2, 4, 8, 16, 32, 64, 128, 256, 512, 1024, 1999]"
      ]
     },
     "execution_count": 9,
     "metadata": {},
     "output_type": "execute_result"
    }
   ],
   "source": [
    "Epoch"
   ]
  },
  {
   "cell_type": "code",
   "execution_count": 10,
   "id": "chief-negotiation",
   "metadata": {},
   "outputs": [
    {
     "data": {
      "text/plain": [
       "array([ 0.84603759,  7.26954882, -2.78843552])"
      ]
     },
     "execution_count": 10,
     "metadata": {},
     "output_type": "execute_result"
    }
   ],
   "source": [
    "W"
   ]
  },
  {
   "cell_type": "code",
   "execution_count": 13,
   "id": "beautiful-termination",
   "metadata": {
    "scrolled": true
   },
   "outputs": [
    {
     "data": {
      "text/plain": [
       "[<matplotlib.lines.Line2D at 0x236d5080940>]"
      ]
     },
     "execution_count": 13,
     "metadata": {},
     "output_type": "execute_result"
    },
    {
     "data": {
      "image/png": "[encoded data removed]",
      "text/plain": [
       "<Figure size 432x288 with 1 Axes>"
      ]
     },
     "metadata": {
      "needs_background": "light"
     },
     "output_type": "display_data"
    }
   ],
   "source": [
    "# Plot the train cost result\n",
    "import matplotlib.pyplot as plt \n",
    "plt.plot(Epoch, Cost, label='train_cost' )"
   ]
  },
  {
   "cell_type": "markdown",
   "id": "similar-printer",
   "metadata": {},
   "source": [
    "# Plot SVP Result"
   ]
  },
  {
   "cell_type": "code",
   "execution_count": 14,
   "id": "supported-preliminary",
   "metadata": {},
   "outputs": [],
   "source": [
    "a=W[0]/W[1]\n",
    "b=W[2]/W[1]"
   ]
  },
  {
   "cell_type": "code",
   "execution_count": 15,
   "id": "comprehensive-bailey",
   "metadata": {},
   "outputs": [
    {
     "data": {
      "text/plain": [
       "0.1163810315116895"
      ]
     },
     "execution_count": 15,
     "metadata": {},
     "output_type": "execute_result"
    }
   ],
   "source": [
    "a"
   ]
  },
  {
   "cell_type": "code",
   "execution_count": 16,
   "id": "direct-length",
   "metadata": {},
   "outputs": [
    {
     "data": {
      "text/plain": [
       "-0.3835775218225629"
      ]
     },
     "execution_count": 16,
     "metadata": {},
     "output_type": "execute_result"
    }
   ],
   "source": [
    "b"
   ]
  },
  {
   "cell_type": "code",
   "execution_count": 17,
   "id": "combined-pregnancy",
   "metadata": {},
   "outputs": [
    {
     "data": {
      "image/png": "[encoded data removed]",
      "text/plain": [
       "<Figure size 576x432 with 1 Axes>"
      ]
     },
     "metadata": {
      "needs_background": "light"
     },
     "output_type": "display_data"
    }
   ],
   "source": [
    "xx = np.linspace(-0.2, 1.2)\n",
    "yy = a * xx-b\n",
    "margin = 1 / np.sqrt(np.sum(W[0:2] ** 2))\n",
    "yy_down = yy-np.sqrt(1 + a ** 2) * margin\n",
    "yy_up = yy + np.sqrt(1 + a ** 2) * margin\n",
    "plt.figure(figsize=(8,6))\n",
    "plt.plot(xx, yy, \"k-\")\n",
    "plt.plot(xx, yy_down, \"k-\")\n",
    "plt.plot(xx, yy_up, \"k-\")\n",
    "plt.scatter(x_train[0], x_train[1], c=y_train, zorder=10, cmap=plt.cm.Paired,\n",
    " edgecolors=\"k\")\n",
    "plt.xlabel(\"x1\")\n",
    "plt.ylabel(\"x2\")\n",
    "plt.show()"
   ]
  },
  {
   "cell_type": "markdown",
   "id": "ordered-taiwan",
   "metadata": {},
   "source": [
    "# Test the model"
   ]
  },
  {
   "cell_type": "code",
   "execution_count": 18,
   "id": "imposed-facility",
   "metadata": {},
   "outputs": [
    {
     "name": "stdout",
     "output_type": "stream",
     "text": [
      "accuracy on test dataset: 1.0\n",
      "recall on test dataset: 1.0\n",
      "precision on test dataset: 1.0\n"
     ]
    }
   ],
   "source": [
    "# testing the model on test set\n",
    "y_test_predicted = np.array([])\n",
    "for i in range(x_test.shape[0]):\n",
    "    yp = np.sign(np.dot(W, x_test.to_numpy()[i])) #model\n",
    "    y_test_predicted = np.append(y_test_predicted, yp)\n",
    "\n",
    "from sklearn.metrics import accuracy_score, recall_score\n",
    "print(\"accuracy on test dataset: {}\".format(accuracy_score(y_test.to_numpy(), y_test_predicted)))\n",
    "print(\"recall on test dataset: {}\".format(recall_score(y_test.to_numpy(), y_test_predicted)))\n",
    "print(\"precision on test dataset: {}\".format(recall_score(y_test.to_numpy(), y_test_predicted)))"
   ]
  },
  {
   "cell_type": "markdown",
   "id": "textile-queue",
   "metadata": {},
   "source": [
    "# Let's Use PyTorch"
   ]
  },
  {
   "cell_type": "code",
   "execution_count": 1,
   "id": "incorrect-smooth",
   "metadata": {},
   "outputs": [],
   "source": [
    "import torch\n",
    "import torch.nn as nn\n",
    "import torch.optim as optim\n",
    "from torch.autograd import Variable"
   ]
  },
  {
   "cell_type": "code",
   "execution_count": 2,
   "id": "statutory-application",
   "metadata": {},
   "outputs": [],
   "source": [
    "# Read data\n",
    "import pandas as pd\n",
    "df=pd.read_csv('iris.csv')\n",
    "s=set()\n",
    "s=list(s)\n",
    "# Only select two values in the dependent variable to make it binary classification problem\n",
    "# Only pick 2 feature in order to make easier for modelling and visulisation\n",
    "df=df[df['variety'].isin(['Setosa', 'Versicolor'])]\n",
    "df=df[['sepal.length','petal.length', 'variety']]\n",
    "df.head()\n",
    "from sklearn.preprocessing import MinMaxScaler\n",
    "# Impute the target variable with [-1,1]\n",
    "df=df.replace(regex={'Setosa': -1, 'Versicolor': 1})\n",
    "Y=df.loc[:, 'variety']\n",
    "X=df.iloc[:, :2]\n",
    "# Normalize it\n",
    "X_normalized=MinMaxScaler().fit_transform(X)\n",
    "X=pd.DataFrame(X_normalized)\n",
    "from sklearn.model_selection import train_test_split\n",
    "x_train, x_test, y_train, y_test = train_test_split(X, Y, train_size=0.9, random_state=42)"
   ]
  },
  {
   "cell_type": "code",
   "execution_count": 63,
   "id": "powered-challenge",
   "metadata": {},
   "outputs": [],
   "source": [
    "\"\"\"\n",
    "Linear Support Vector Machine\n",
    "-----------------------------\n",
    "This SVM is a subclass of the PyTorch nn module that\n",
    "implements the Linear  function. The  size  of  each \n",
    "input sample is 2 and output sample  is 1.\n",
    "\"\"\"\n",
    "# class SVM(nn.Module):\n",
    "#     def __init__(self):\n",
    "#         super().__init__()\n",
    "#         self.fully_connected=nn.Linear(2,1)\n",
    "#     def forward(self,x):\n",
    "#         fwd=self.fully_connected(x)\n",
    "#         return fwd"
   ]
  },
  {
   "cell_type": "code",
   "execution_count": 78,
   "id": "still-generation",
   "metadata": {},
   "outputs": [],
   "source": [
    "learning_rate = 0.1\n",
    "epoch=100\n",
    "batch_size=1"
   ]
  },
  {
   "cell_type": "code",
   "execution_count": 79,
   "id": "actual-magazine",
   "metadata": {},
   "outputs": [],
   "source": [
    "x_train_torch=torch.FloatTensor(x_train.to_numpy())\n",
    "y_train_torch=torch.FloatTensor(y_train.to_numpy())\n",
    "N=len(y_train_torch)"
   ]
  },
  {
   "cell_type": "code",
   "execution_count": 80,
   "id": "everyday-charlotte",
   "metadata": {},
   "outputs": [
    {
     "data": {
      "text/plain": [
       "Linear(in_features=2, out_features=1, bias=True)"
      ]
     },
     "execution_count": 80,
     "metadata": {},
     "output_type": "execute_result"
    }
   ],
   "source": [
    "model=nn.Linear(2,1)\n",
    "optimizer = optim.SGD(model.parameters(), lr=learning_rate)\n",
    "model.train()"
   ]
  },
  {
   "cell_type": "code",
   "execution_count": 81,
   "id": "qualified-product",
   "metadata": {},
   "outputs": [
    {
     "name": "stdout",
     "output_type": "stream",
     "text": [
      "Epoch 1, Loss: 13.41174203157425\n",
      "Parameter containing:\n",
      "tensor([[0.7383, 3.0856]], requires_grad=True)\n",
      "Epoch 2, Loss: 5.406092941761017\n",
      "Parameter containing:\n",
      "tensor([[0.6864, 3.5442]], requires_grad=True)\n",
      "Epoch 4, Loss: 3.250734567642212\n",
      "Parameter containing:\n",
      "tensor([[0.6346, 4.0710]], requires_grad=True)\n",
      "Epoch 8, Loss: 1.8001751899719238\n",
      "Parameter containing:\n",
      "tensor([[0.4568, 4.7027]], requires_grad=True)\n",
      "Epoch 16, Loss: 0.9127144813537598\n",
      "Parameter containing:\n",
      "tensor([[0.2161, 5.4466]], requires_grad=True)\n",
      "Epoch 32, Loss: 0.4218943119049072\n",
      "Parameter containing:\n",
      "tensor([[0.1975, 6.0369]], requires_grad=True)\n",
      "Epoch 64, Loss: 0.2502528429031372\n",
      "Parameter containing:\n",
      "tensor([[0.4198, 6.8125]], requires_grad=True)\n"
     ]
    }
   ],
   "source": [
    "nth=0\n",
    "for epoch in range(epoch):\n",
    "    perm=torch.randperm(N)\n",
    "    sum_loss=0\n",
    "    \n",
    "    for i in range(0, N, batch_size):\n",
    "        x=x_train_torch[perm[i:i + batch_size]] # Pick a random x\n",
    "        y=y_train_torch[perm[i:i + batch_size]]\n",
    "        \n",
    "        x = Variable(x)  # Convert features and classes to variables\n",
    "        y = Variable(y)\n",
    "        \n",
    "        optimizer.zero_grad()\n",
    "        output=model(x)\n",
    "        \n",
    "        loss=torch.mean(torch.clamp(1 - output * y, min=0))  # hinge loss\n",
    "        loss.backward()  # Backpropagation\n",
    "        optimizer.step()  # Optimize and adjust weights\n",
    "        \n",
    "        sum_loss += loss.data.cpu().numpy()  # Add the loss\n",
    "    \n",
    "    if epoch == 2 ** nth:\n",
    "        print(\"Epoch {}, Loss: {}\".format(epoch, sum_loss)) \n",
    "        print(model.weight)\n",
    "        nth+=1"
   ]
  },
  {
   "cell_type": "code",
   "execution_count": 90,
   "id": "bronze-stack",
   "metadata": {},
   "outputs": [],
   "source": [
    "# Get the W vector\n",
    "W=model.weight.squeeze().detach().cpu().numpy()\n",
    "# Get bias b\n",
    "bias = model.bias.squeeze().detach().cpu().numpy()"
   ]
  },
  {
   "cell_type": "code",
   "execution_count": 91,
   "id": "cross-balloon",
   "metadata": {},
   "outputs": [],
   "source": [
    "a=W[0]/W[1]\n",
    "b=bias/W[1]"
   ]
  },
  {
   "cell_type": "code",
   "execution_count": 97,
   "id": "descending-allocation",
   "metadata": {},
   "outputs": [
    {
     "data": {
      "image/png": "[encoded data removed]",
      "text/plain": [
       "<Figure size 576x432 with 1 Axes>"
      ]
     },
     "metadata": {
      "needs_background": "light"
     },
     "output_type": "display_data"
    }
   ],
   "source": [
    "import numpy as np\n",
    "import matplotlib.pyplot as plt \n",
    "xx = np.linspace(-0.2, 1.2)\n",
    "yy = a * xx-b\n",
    "margin = 1 / np.sqrt(np.sum(W ** 2))\n",
    "yy_down = yy-np.sqrt(1 + a ** 2) * margin\n",
    "yy_up = yy + np.sqrt(1 + a ** 2) * margin\n",
    "plt.figure(figsize=(8,6))\n",
    "plt.plot(xx, yy, \"k-\")\n",
    "plt.plot(xx, yy_down, \"k-\")\n",
    "plt.plot(xx, yy_up, \"k-\")\n",
    "plt.scatter(x_train[0], x_train[1], c=y_train, zorder=10, cmap=plt.cm.Paired,\n",
    " edgecolors=\"k\")\n",
    "plt.xlabel(\"x1\")\n",
    "plt.ylabel(\"x2\")\n",
    "plt.show()"
   ]
  },
  {
   "cell_type": "code",
   "execution_count": null,
   "id": "pleasant-biology",
   "metadata": {},
   "outputs": [],
   "source": []
  }
 ],
 "metadata": {
  "kernelspec": {
   "display_name": "Python 3",
   "language": "python",
   "name": "python3"
  },
  "language_info": {
   "codemirror_mode": {
    "name": "ipython",
    "version": 3
   },
   "file_extension": ".py",
   "mimetype": "text/x-python",
   "name": "python",
   "nbconvert_exporter": "python",
   "pygments_lexer": "ipython3",
   "version": "3.7.3"
  }
 },
 "nbformat": 4,
 "nbformat_minor": 5
}
