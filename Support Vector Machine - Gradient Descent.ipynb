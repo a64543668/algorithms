{
 "cells": [
  {
   "cell_type": "markdown",
   "id": "chicken-powder",
   "metadata": {},
   "source": [
    "# Read Data"
   ]
  },
  {
   "cell_type": "code",
   "execution_count": 294,
   "id": "played-mixer",
   "metadata": {},
   "outputs": [
    {
     "data": {
      "text/html": [
       "<div>\n",
       "<style scoped>\n",
       "    .dataframe tbody tr th:only-of-type {\n",
       "        vertical-align: middle;\n",
       "    }\n",
       "\n",
       "    .dataframe tbody tr th {\n",
       "        vertical-align: top;\n",
       "    }\n",
       "\n",
       "    .dataframe thead th {\n",
       "        text-align: right;\n",
       "    }\n",
       "</style>\n",
       "<table border=\"1\" class=\"dataframe\">\n",
       "  <thead>\n",
       "    <tr style=\"text-align: right;\">\n",
       "      <th></th>\n",
       "      <th>sepal.length</th>\n",
       "      <th>petal.length</th>\n",
       "      <th>variety</th>\n",
       "    </tr>\n",
       "  </thead>\n",
       "  <tbody>\n",
       "    <tr>\n",
       "      <th>0</th>\n",
       "      <td>5.1</td>\n",
       "      <td>1.4</td>\n",
       "      <td>Setosa</td>\n",
       "    </tr>\n",
       "    <tr>\n",
       "      <th>1</th>\n",
       "      <td>4.9</td>\n",
       "      <td>1.4</td>\n",
       "      <td>Setosa</td>\n",
       "    </tr>\n",
       "    <tr>\n",
       "      <th>2</th>\n",
       "      <td>4.7</td>\n",
       "      <td>1.3</td>\n",
       "      <td>Setosa</td>\n",
       "    </tr>\n",
       "    <tr>\n",
       "      <th>3</th>\n",
       "      <td>4.6</td>\n",
       "      <td>1.5</td>\n",
       "      <td>Setosa</td>\n",
       "    </tr>\n",
       "    <tr>\n",
       "      <th>4</th>\n",
       "      <td>5.0</td>\n",
       "      <td>1.4</td>\n",
       "      <td>Setosa</td>\n",
       "    </tr>\n",
       "  </tbody>\n",
       "</table>\n",
       "</div>"
      ],
      "text/plain": [
       "   sepal.length  petal.length variety\n",
       "0           5.1           1.4  Setosa\n",
       "1           4.9           1.4  Setosa\n",
       "2           4.7           1.3  Setosa\n",
       "3           4.6           1.5  Setosa\n",
       "4           5.0           1.4  Setosa"
      ]
     },
     "execution_count": 294,
     "metadata": {},
     "output_type": "execute_result"
    }
   ],
   "source": [
    "# Read data\n",
    "import pandas as pd\n",
    "df=pd.read_csv('iris.csv')\n",
    "s=set()\n",
    "s=list(s)\n",
    "# Only select two values in the dependent variable to make it binary classification problem\n",
    "# Only pick 2 feature in order to make easier for modelling and visulisation\n",
    "df=df[df['variety'].isin(['Setosa', 'Versicolor'])]\n",
    "df=df[['sepal.length','petal.length', 'variety']]\n",
    "df.head()"
   ]
  },
  {
   "cell_type": "code",
   "execution_count": 295,
   "id": "pediatric-scholarship",
   "metadata": {},
   "outputs": [],
   "source": [
    "from sklearn.preprocessing import MinMaxScaler\n",
    "# Impute the target variable with [-1,1]\n",
    "df=df.replace(regex={'Setosa': -1, 'Versicolor': 1})\n",
    "Y=df.loc[:, 'variety']\n",
    "X=df.iloc[:, :2]\n",
    "# Normalize it\n",
    "X_normalized=MinMaxScaler().fit_transform(X)\n",
    "X=pd.DataFrame(X_normalized)\n",
    "# Insert a constant value for intercept b\n",
    "X.insert(loc=len(X.columns), column='intercept', value=1)\n",
    "# Let's split the data\n",
    "from sklearn.model_selection import train_test_split\n",
    "x_train, x_test, y_train, y_test = train_test_split(X, Y, train_size=0.9, random_state=42)"
   ]
  },
  {
   "cell_type": "markdown",
   "id": "demanding-blond",
   "metadata": {},
   "source": [
    "# Gradient Descent"
   ]
  },
  {
   "cell_type": "code",
   "execution_count": 296,
   "id": "alternate-finland",
   "metadata": {},
   "outputs": [],
   "source": [
    "# SVM Loss Function"
   ]
  },
  {
   "cell_type": "markdown",
   "id": "liked-progressive",
   "metadata": {},
   "source": [
    "<img src=\"SVM Loss Function.png\" width=\"608\" height=\"456\" style=\"float:left\"/>"
   ]
  },
  {
   "cell_type": "code",
   "execution_count": 297,
   "id": "prostate-airfare",
   "metadata": {},
   "outputs": [],
   "source": [
    "import numpy as np\n",
    "from sklearn.utils import shuffle\n",
    "def cost_function(W, X, Y):\n",
    "    # hinge loss (missclassification loss)\n",
    "    N=X.shape[0]\n",
    "    distances=1-Y*(np.dot(X, W))\n",
    "    distances[distances<0]=0 # this is represent the max(0, distances)\n",
    "    hinge_loss=reg_strength*(np.sum(distances)/N)\n",
    "    \n",
    "    # Cost (margin width + hinge loss)\n",
    "    cost=1/2*np.dot(W, W) + hinge_loss\n",
    "    return cost"
   ]
  },
  {
   "cell_type": "code",
   "execution_count": 299,
   "id": "continued-dodge",
   "metadata": {},
   "outputs": [],
   "source": [
    "# We would use Stochastic Gradient Descent or SGD to get optimum. For SVM we could always get global optimum\n",
    "# Gradient descent algorithm works as follows:\n",
    "# 1. Find the gradient of cost function i.e. ∇J(w’)\n",
    "# 2. Move opposite to the gradient by a certain rate i.e. w’ = w’ — ∝(∇J(w’))\n",
    "# 3. Repeat step 1–3 until convergence i.e we found w’ where J(w) is smallest\n",
    "\n",
    "# The gradient descent of cost function\n",
    "def calculate_cost_gradient(W, X_batch, Y_batch):\n",
    "    if type(Y_batch) == np.int64:\n",
    "        Y_batch = np.array([Y_batch])\n",
    "        X_batch = np.array([X_batch])\n",
    "    distance = 1 - (Y_batch * np.dot(X_batch, W))\n",
    "    dw = np.zeros(len(W))\n",
    "    \n",
    "    for ind, d in enumerate(distance):\n",
    "        if max(0,d)==0:\n",
    "            di=W\n",
    "        else:\n",
    "            di=W-(reg_strength * Y_batch[ind] * X_batch[ind])\n",
    "        dw+=di\n",
    "    \n",
    "    dw=dw/len(Y_batch) # average cost\n",
    "    return dw"
   ]
  },
  {
   "cell_type": "code",
   "execution_count": 385,
   "id": "usual-labor",
   "metadata": {},
   "outputs": [],
   "source": [
    "# Define SGD iteration function\n",
    "def sgd(features, outputs):\n",
    "    epoch_list=[]\n",
    "    cost_list=[]\n",
    "    max_epochs=2000\n",
    "    weights=np.zeros(features.shape[1])\n",
    "    nth=0\n",
    "    prev_cost = float(\"inf\")\n",
    "    cost_threshold = 0.01\n",
    "    # stochastic gradient descent\n",
    "    for epoch in range(1, max_epochs):\n",
    "        # shuffle to prevent repeating update cycles\n",
    "        X, Y=shuffle(features, outputs)\n",
    "        for ind, x in enumerate(X):\n",
    "            ascent=calculate_cost_gradient(weights, x, Y[ind])\n",
    "            weights=weights-(learning_rate*ascent)\n",
    "        # convergence check on 2^nth epoch\n",
    "        if epoch == 2 ** nth or epoch == max_epochs - 1:\n",
    "            cost = cost_function(weights, features, outputs)\n",
    "            cost_list.append(cost)\n",
    "            epoch_list.append(epoch)\n",
    "            print(\"Epoch is:{} and Cost is: {}\".format(epoch, cost))\n",
    "            print(\"W is {}\".format(weights))\n",
    "            # stoppage criterion\n",
    "            if abs(prev_cost - cost) < cost_threshold * prev_cost:\n",
    "                return weights, cost_list, epoch_list\n",
    "            prev_cost = cost\n",
    "            nth += 1\n",
    "    return weights, cost_list, epoch_list"
   ]
  },
  {
   "cell_type": "markdown",
   "id": "sudden-connectivity",
   "metadata": {},
   "source": [
    "# Train the Model"
   ]
  },
  {
   "cell_type": "code",
   "execution_count": 395,
   "id": "exact-rider",
   "metadata": {
    "scrolled": true
   },
   "outputs": [
    {
     "name": "stdout",
     "output_type": "stream",
     "text": [
      "Epoch is:1 and Cost is: 2443.4206230014843\n",
      "W is [ 0.64778846  2.01120517 -1.09967604]\n",
      "Epoch is:2 and Cost is: 584.9091700287339\n",
      "W is [ 0.7878738   3.15032493 -1.69835489]\n",
      "Epoch is:4 and Cost is: 337.4729528067242\n",
      "W is [ 0.71617022  3.79519268 -1.79516365]\n",
      "Epoch is:8 and Cost is: 188.64509143835306\n",
      "W is [ 0.53992323  4.51665599 -1.88828228]\n",
      "Epoch is:16 and Cost is: 75.64377934112018\n",
      "W is [ 0.30011844  5.35620447 -2.07370736]\n",
      "Epoch is:32 and Cost is: 61.82210983556992\n",
      "W is [ 0.20406575  5.98129684 -2.24262455]\n",
      "Epoch is:64 and Cost is: 44.68097454763433\n",
      "W is [ 0.37732872  6.64524681 -2.47510769]\n",
      "Epoch is:128 and Cost is: 30.27646489074822\n",
      "W is [ 0.62814522  7.26223603 -2.72365402]\n",
      "Epoch is:256 and Cost is: 40.77246734343419\n",
      "W is [ 0.79143958  7.1178589  -2.80730839]\n",
      "Epoch is:512 and Cost is: 30.410633648916136\n",
      "W is [ 0.82545691  7.24158716 -2.7747619 ]\n",
      "Epoch is:1024 and Cost is: 34.744808660615895\n",
      "W is [ 0.90116573  7.20272928 -2.70531172]\n",
      "Epoch is:1999 and Cost is: 31.010023503660882\n",
      "W is [ 0.84586543  7.25189678 -2.79226749]\n"
     ]
    }
   ],
   "source": [
    "reg_strength=10000\n",
    "learning_rate = 0.00001\n",
    "W, Cost, Epoch= sgd(x_train.to_numpy(), y_train.to_numpy())"
   ]
  },
  {
   "cell_type": "code",
   "execution_count": 396,
   "id": "revised-source",
   "metadata": {},
   "outputs": [
    {
     "data": {
      "text/plain": [
       "[2443.4206230014843,\n",
       " 584.9091700287339,\n",
       " 337.4729528067242,\n",
       " 188.64509143835306,\n",
       " 75.64377934112018,\n",
       " 61.82210983556992,\n",
       " 44.68097454763433,\n",
       " 30.27646489074822,\n",
       " 40.77246734343419,\n",
       " 30.410633648916136,\n",
       " 34.744808660615895,\n",
       " 31.010023503660882]"
      ]
     },
     "execution_count": 396,
     "metadata": {},
     "output_type": "execute_result"
    }
   ],
   "source": [
    "Cost"
   ]
  },
  {
   "cell_type": "code",
   "execution_count": 397,
   "id": "local-arcade",
   "metadata": {},
   "outputs": [
    {
     "data": {
      "text/plain": [
       "[1, 2, 4, 8, 16, 32, 64, 128, 256, 512, 1024, 1999]"
      ]
     },
     "execution_count": 397,
     "metadata": {},
     "output_type": "execute_result"
    }
   ],
   "source": [
    "Epoch"
   ]
  },
  {
   "cell_type": "code",
   "execution_count": 398,
   "id": "chief-negotiation",
   "metadata": {},
   "outputs": [
    {
     "data": {
      "text/plain": [
       "array([ 0.84586543,  7.25189678, -2.79226749])"
      ]
     },
     "execution_count": 398,
     "metadata": {},
     "output_type": "execute_result"
    }
   ],
   "source": [
    "W"
   ]
  },
  {
   "cell_type": "code",
   "execution_count": 399,
   "id": "beautiful-termination",
   "metadata": {},
   "outputs": [
    {
     "data": {
      "text/plain": [
       "[<matplotlib.lines.Line2D at 0x205bf16dd68>]"
      ]
     },
     "execution_count": 399,
     "metadata": {},
     "output_type": "execute_result"
    },
    {
     "data": {
      "image/png": "[encoded data removed]",
      "text/plain": [
       "<Figure size 1152x576 with 1 Axes>"
      ]
     },
     "metadata": {
      "needs_background": "light"
     },
     "output_type": "display_data"
    }
   ],
   "source": [
    "# Plot the train cost result\n",
    "plt.plot(Epoch, Cost, label='train_cost' )"
   ]
  },
  {
   "cell_type": "markdown",
   "id": "similar-printer",
   "metadata": {},
   "source": [
    "# Plot SVP Result"
   ]
  },
  {
   "cell_type": "code",
   "execution_count": 400,
   "id": "supported-preliminary",
   "metadata": {},
   "outputs": [],
   "source": [
    "a=W[0]/W[1]\n",
    "b=W[2]/W[1]"
   ]
  },
  {
   "cell_type": "code",
   "execution_count": 401,
   "id": "comprehensive-bailey",
   "metadata": {},
   "outputs": [
    {
     "data": {
      "text/plain": [
       "0.11664057775476264"
      ]
     },
     "execution_count": 401,
     "metadata": {},
     "output_type": "execute_result"
    }
   ],
   "source": [
    "a"
   ]
  },
  {
   "cell_type": "code",
   "execution_count": 402,
   "id": "direct-length",
   "metadata": {},
   "outputs": [
    {
     "data": {
      "text/plain": [
       "-0.3850396077875346"
      ]
     },
     "execution_count": 402,
     "metadata": {},
     "output_type": "execute_result"
    }
   ],
   "source": [
    "b"
   ]
  },
  {
   "cell_type": "code",
   "execution_count": 403,
   "id": "combined-pregnancy",
   "metadata": {},
   "outputs": [
    {
     "data": {
      "image/png": "[encoded data removed]",
      "text/plain": [
       "<Figure size 576x432 with 1 Axes>"
      ]
     },
     "metadata": {
      "needs_background": "light"
     },
     "output_type": "display_data"
    }
   ],
   "source": [
    "xx = np.linspace(-0.2, 1.2)\n",
    "yy = a * xx-b\n",
    "margin = 1 / np.sqrt(np.sum(W[0:2] ** 2))\n",
    "yy_down = yy-np.sqrt(1 + a ** 2) * margin\n",
    "yy_up = yy + np.sqrt(1 + a ** 2) * margin\n",
    "plt.figure(figsize=(8,6))\n",
    "plt.plot(xx, yy, \"k-\")\n",
    "plt.plot(xx, yy_down, \"k-\")\n",
    "plt.plot(xx, yy_up, \"k-\")\n",
    "plt.scatter(x_train[0], x_train[1], c=y_train, zorder=10, cmap=plt.cm.Paired,\n",
    " edgecolors=\"k\")\n",
    "plt.xlabel(\"x1\")\n",
    "plt.ylabel(\"x2\")\n",
    "plt.show()"
   ]
  },
  {
   "cell_type": "markdown",
   "id": "ordered-taiwan",
   "metadata": {},
   "source": [
    "# Test the model"
   ]
  },
  {
   "cell_type": "code",
   "execution_count": 409,
   "id": "imposed-facility",
   "metadata": {},
   "outputs": [
    {
     "name": "stdout",
     "output_type": "stream",
     "text": [
      "accuracy on test dataset: 1.0\n",
      "recall on test dataset: 1.0\n",
      "precision on test dataset: 1.0\n"
     ]
    }
   ],
   "source": [
    "# testing the model on test set\n",
    "y_test_predicted = np.array([])\n",
    "for i in range(x_test.shape[0]):\n",
    "    yp = np.sign(np.dot(W, x_test.to_numpy()[i])) #model\n",
    "    y_test_predicted = np.append(y_test_predicted, yp)\n",
    "\n",
    "from sklearn.metrics import accuracy_score, recall_score\n",
    "print(\"accuracy on test dataset: {}\".format(accuracy_score(y_test.to_numpy(), y_test_predicted)))\n",
    "print(\"recall on test dataset: {}\".format(recall_score(y_test.to_numpy(), y_test_predicted)))\n",
    "print(\"precision on test dataset: {}\".format(recall_score(y_test.to_numpy(), y_test_predicted)))"
   ]
  }
 ],
 "metadata": {
  "kernelspec": {
   "display_name": "Python 3",
   "language": "python",
   "name": "python3"
  },
  "language_info": {
   "codemirror_mode": {
    "name": "ipython",
    "version": 3
   },
   "file_extension": ".py",
   "mimetype": "text/x-python",
   "name": "python",
   "nbconvert_exporter": "python",
   "pygments_lexer": "ipython3",
   "version": "3.7.3"
  }
 },
 "nbformat": 4,
 "nbformat_minor": 5
}
