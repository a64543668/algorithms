{
 "cells": [
  {
   "cell_type": "markdown",
   "id": "careful-concrete",
   "metadata": {},
   "source": [
    "# Data Processing"
   ]
  },
  {
   "cell_type": "code",
   "execution_count": 1,
   "id": "meaning-melbourne",
   "metadata": {},
   "outputs": [],
   "source": [
    "# Read data\n",
    "import pandas as pd\n",
    "df=pd.read_csv('titanic.csv')\n",
    "\n",
    "# Drop the unused variables\n",
    "df=df.drop(['Name'], axis=1)\n",
    "\n",
    "df=df.head(20)"
   ]
  },
  {
   "cell_type": "code",
   "execution_count": 2,
   "id": "specialized-friendship",
   "metadata": {},
   "outputs": [],
   "source": [
    "from patsy import dmatrices\n",
    "# Create matrices\n",
    "y, X= dmatrices('Survived ~ Age + Fare + Q(\"Siblings/Spouses Aboard\") + Q(\"Parents/Children Aboard\") + C(Pclass) + C(Sex)', df, return_type = 'dataframe')"
   ]
  },
  {
   "cell_type": "code",
   "execution_count": 3,
   "id": "overhead-hydrogen",
   "metadata": {},
   "outputs": [],
   "source": [
    "#Remove intercept\n",
    "X=X.iloc[:,1:]"
   ]
  },
  {
   "cell_type": "code",
   "execution_count": 4,
   "id": "public-abuse",
   "metadata": {},
   "outputs": [
    {
     "data": {
      "text/html": [
       "<div>\n",
       "<style scoped>\n",
       "    .dataframe tbody tr th:only-of-type {\n",
       "        vertical-align: middle;\n",
       "    }\n",
       "\n",
       "    .dataframe tbody tr th {\n",
       "        vertical-align: top;\n",
       "    }\n",
       "\n",
       "    .dataframe thead th {\n",
       "        text-align: right;\n",
       "    }\n",
       "</style>\n",
       "<table border=\"1\" class=\"dataframe\">\n",
       "  <thead>\n",
       "    <tr style=\"text-align: right;\">\n",
       "      <th></th>\n",
       "      <th>C(Pclass)[T.2]</th>\n",
       "      <th>C(Pclass)[T.3]</th>\n",
       "      <th>C(Sex)[T.male]</th>\n",
       "      <th>Age</th>\n",
       "      <th>Fare</th>\n",
       "      <th>Q(\"Siblings/Spouses Aboard\")</th>\n",
       "      <th>Q(\"Parents/Children Aboard\")</th>\n",
       "    </tr>\n",
       "  </thead>\n",
       "  <tbody>\n",
       "    <tr>\n",
       "      <th>0</th>\n",
       "      <td>0.0</td>\n",
       "      <td>1.0</td>\n",
       "      <td>1.0</td>\n",
       "      <td>22.0</td>\n",
       "      <td>7.2500</td>\n",
       "      <td>1.0</td>\n",
       "      <td>0.0</td>\n",
       "    </tr>\n",
       "    <tr>\n",
       "      <th>1</th>\n",
       "      <td>0.0</td>\n",
       "      <td>0.0</td>\n",
       "      <td>0.0</td>\n",
       "      <td>38.0</td>\n",
       "      <td>71.2833</td>\n",
       "      <td>1.0</td>\n",
       "      <td>0.0</td>\n",
       "    </tr>\n",
       "    <tr>\n",
       "      <th>2</th>\n",
       "      <td>0.0</td>\n",
       "      <td>1.0</td>\n",
       "      <td>0.0</td>\n",
       "      <td>26.0</td>\n",
       "      <td>7.9250</td>\n",
       "      <td>0.0</td>\n",
       "      <td>0.0</td>\n",
       "    </tr>\n",
       "    <tr>\n",
       "      <th>3</th>\n",
       "      <td>0.0</td>\n",
       "      <td>0.0</td>\n",
       "      <td>0.0</td>\n",
       "      <td>35.0</td>\n",
       "      <td>53.1000</td>\n",
       "      <td>1.0</td>\n",
       "      <td>0.0</td>\n",
       "    </tr>\n",
       "    <tr>\n",
       "      <th>4</th>\n",
       "      <td>0.0</td>\n",
       "      <td>1.0</td>\n",
       "      <td>1.0</td>\n",
       "      <td>35.0</td>\n",
       "      <td>8.0500</td>\n",
       "      <td>0.0</td>\n",
       "      <td>0.0</td>\n",
       "    </tr>\n",
       "  </tbody>\n",
       "</table>\n",
       "</div>"
      ],
      "text/plain": [
       "   C(Pclass)[T.2]  C(Pclass)[T.3]  C(Sex)[T.male]   Age     Fare  \\\n",
       "0             0.0             1.0             1.0  22.0   7.2500   \n",
       "1             0.0             0.0             0.0  38.0  71.2833   \n",
       "2             0.0             1.0             0.0  26.0   7.9250   \n",
       "3             0.0             0.0             0.0  35.0  53.1000   \n",
       "4             0.0             1.0             1.0  35.0   8.0500   \n",
       "\n",
       "   Q(\"Siblings/Spouses Aboard\")  Q(\"Parents/Children Aboard\")  \n",
       "0                           1.0                           0.0  \n",
       "1                           1.0                           0.0  \n",
       "2                           0.0                           0.0  \n",
       "3                           1.0                           0.0  \n",
       "4                           0.0                           0.0  "
      ]
     },
     "execution_count": 4,
     "metadata": {},
     "output_type": "execute_result"
    }
   ],
   "source": [
    "X.head()"
   ]
  },
  {
   "cell_type": "markdown",
   "id": "interim-pipeline",
   "metadata": {},
   "source": [
    "# Step 1: Gini Index"
   ]
  },
  {
   "cell_type": "code",
   "execution_count": 5,
   "id": "solid-vehicle",
   "metadata": {},
   "outputs": [],
   "source": [
    "# The Gini index is the name of the cost function used to evaluate splits in the dataset.Could entropy too but Gini is more efficient\n",
    "# Calculate the Gini index for a split dataset\n",
    "def gini_index(groups, classes):\n",
    "    # count all samples at split point\n",
    "    n_instances = float(sum([len(group) for group in groups]))\n",
    "    # sum weighted Gini index for each group\n",
    "    gini = 0.0\n",
    "    for group in groups:\n",
    "        size = float(len(group))\n",
    "        # avoid divide by zero\n",
    "        if size == 0:\n",
    "            continue\n",
    "        score = 0.0\n",
    "        # score the group based on the score for each class\n",
    "        for class_val in classes:\n",
    "            p = [row[-1] for row in group].count(class_val) / size\n",
    "            score += p * p\n",
    "        # weight the group score by its relative size\n",
    "        gini += (1.0 - score) * (size / n_instances)\n",
    "    return gini"
   ]
  },
  {
   "cell_type": "code",
   "execution_count": 6,
   "id": "subsequent-expert",
   "metadata": {},
   "outputs": [
    {
     "name": "stdout",
     "output_type": "stream",
     "text": [
      "0.5\n",
      "0.0\n"
     ]
    }
   ],
   "source": [
    "print(gini_index([[[1, 1], [1, 0]], [[1, 1], [1, 0]]], [0, 1]))\n",
    "print(gini_index([[[1, 0], [1, 0]], [[1, 1], [1, 1]]], [0, 1]))"
   ]
  },
  {
   "cell_type": "markdown",
   "id": "right-jacob",
   "metadata": {},
   "source": [
    "# Step 2: Split Dataset"
   ]
  },
  {
   "cell_type": "code",
   "execution_count": 7,
   "id": "local-kelly",
   "metadata": {},
   "outputs": [],
   "source": [
    "# Split based on a threshold\n",
    "# Split a dataset based on an attribute and an attribute value\n",
    "def test_split(index, value, dataset):\n",
    "    left, right = list(), list()\n",
    "    for row in dataset:\n",
    "        if row[index] < value:\n",
    "            left.append(row)\n",
    "        else:\n",
    "            right.append(row)\n",
    "    return left, right"
   ]
  },
  {
   "cell_type": "code",
   "execution_count": 8,
   "id": "amber-exhibit",
   "metadata": {},
   "outputs": [],
   "source": [
    "# We would test every single split and its gini in order to find best split\n",
    "# So this greedy algorithm need many computations\n",
    "# Use this we could find the split with minimum gini\n",
    "def get_split(dataset):\n",
    "    class_values = list(set(row[-1] for row in dataset))\n",
    "    b_index, b_value, b_score, b_groups=999, 999, 999, None\n",
    "    for index in range(len(dataset[0])-1):\n",
    "        for row in dataset:\n",
    "            groups=test_split(index, row[index], dataset)\n",
    "            gini=gini_index(groups, class_values)\n",
    "            if gini < b_score:\n",
    "                b_index, b_value, b_score, b_groups = index, row[index], gini, groups\n",
    "                print(f'index: {b_index}, value: {b_value}, b_score: {b_score}')\n",
    "    return {'index':b_index, 'value':b_value, 'groups':b_groups}"
   ]
  },
  {
   "cell_type": "code",
   "execution_count": 10,
   "id": "simple-place",
   "metadata": {},
   "outputs": [],
   "source": [
    "import numpy as np\n",
    "dataset=np.array(pd.merge(X, y, right_index=True, left_index=True))"
   ]
  },
  {
   "cell_type": "code",
   "execution_count": 11,
   "id": "employed-celtic",
   "metadata": {},
   "outputs": [
    {
     "name": "stdout",
     "output_type": "stream",
     "text": [
      "index: 0, value: 0.0, b_score: 0.5\n",
      "index: 0, value: 1.0, b_score: 0.4117647058823529\n",
      "index: 1, value: 1.0, b_score: 0.36263736263736274\n",
      "index: 2, value: 1.0, b_score: 0.2525252525252525\n"
     ]
    },
    {
     "data": {
      "text/plain": [
       "{'index': 2,\n",
       " 'value': 1.0,\n",
       " 'groups': ([array([ 0.    ,  0.    ,  0.    , 38.    , 71.2833,  1.    ,  0.    ,\n",
       "           1.    ]),\n",
       "   array([ 0.   ,  1.   ,  0.   , 26.   ,  7.925,  0.   ,  0.   ,  1.   ]),\n",
       "   array([ 0. ,  0. ,  0. , 35. , 53.1,  1. ,  0. ,  1. ]),\n",
       "   array([ 0.    ,  1.    ,  0.    , 27.    , 11.1333,  0.    ,  2.    ,\n",
       "           1.    ]),\n",
       "   array([ 1.    ,  0.    ,  0.    , 14.    , 30.0708,  1.    ,  0.    ,\n",
       "           1.    ]),\n",
       "   array([ 0. ,  1. ,  0. ,  4. , 16.7,  1. ,  1. ,  1. ]),\n",
       "   array([ 0.  ,  0.  ,  0.  , 58.  , 26.55,  0.  ,  0.  ,  1.  ]),\n",
       "   array([ 0.    ,  1.    ,  0.    , 14.    ,  7.8542,  0.    ,  0.    ,\n",
       "           0.    ]),\n",
       "   array([ 1.,  0.,  0., 55., 16.,  0.,  0.,  1.]),\n",
       "   array([ 0.,  1.,  0., 31., 18.,  1.,  0.,  0.]),\n",
       "   array([ 0.   ,  1.   ,  0.   , 22.   ,  7.225,  0.   ,  0.   ,  1.   ])],\n",
       "  [array([ 0.  ,  1.  ,  1.  , 22.  ,  7.25,  1.  ,  0.  ,  0.  ]),\n",
       "   array([ 0.  ,  1.  ,  1.  , 35.  ,  8.05,  0.  ,  0.  ,  0.  ]),\n",
       "   array([ 0.    ,  1.    ,  1.    , 27.    ,  8.4583,  0.    ,  0.    ,\n",
       "           0.    ]),\n",
       "   array([ 0.    ,  0.    ,  1.    , 54.    , 51.8625,  0.    ,  0.    ,\n",
       "           0.    ]),\n",
       "   array([ 0.   ,  1.   ,  1.   ,  2.   , 21.075,  3.   ,  1.   ,  0.   ]),\n",
       "   array([ 0.  ,  1.  ,  1.  , 20.  ,  8.05,  0.  ,  0.  ,  0.  ]),\n",
       "   array([ 0.   ,  1.   ,  1.   , 39.   , 31.275,  1.   ,  5.   ,  0.   ]),\n",
       "   array([ 0.   ,  1.   ,  1.   ,  2.   , 29.125,  4.   ,  1.   ,  0.   ]),\n",
       "   array([ 1.,  0.,  1., 23., 13.,  0.,  0.,  1.])])}"
      ]
     },
     "execution_count": 11,
     "metadata": {},
     "output_type": "execute_result"
    }
   ],
   "source": [
    "get_split(dataset)"
   ]
  },
  {
   "cell_type": "code",
   "execution_count": 12,
   "id": "welcome-breed",
   "metadata": {},
   "outputs": [
    {
     "name": "stdout",
     "output_type": "stream",
     "text": [
      "0.1111111111111111\n",
      "0.8181818181818182\n"
     ]
    }
   ],
   "source": [
    "# index 2 (Sex: male) is the split with smallist gini, which split the group the most\n",
    "# Let's check\n",
    "# if column=1 (male), there is only 11% survied; when the column=0 (female), there is 82% survived\n",
    "print(sum(dataset[dataset[:,2]==1][:,-1])/len(dataset[dataset[:,2]==1][:,-1]))\n",
    "print(sum(dataset[dataset[:,2]==0][:,-1])/len(dataset[dataset[:,2]==0][:,-1]))"
   ]
  },
  {
   "cell_type": "markdown",
   "id": "passing-niger",
   "metadata": {},
   "source": [
    "# Step 3: Build a Tree"
   ]
  },
  {
   "cell_type": "code",
   "execution_count": 13,
   "id": "peripheral-noise",
   "metadata": {},
   "outputs": [],
   "source": [
    "# Create a terminal node value\n",
    "def to_terminal(group):\n",
    "    outcomes = [row[-1] for row in group]\n",
    "    return max(set(outcomes), key=outcomes.count)"
   ]
  },
  {
   "cell_type": "code",
   "execution_count": 14,
   "id": "original-owner",
   "metadata": {},
   "outputs": [],
   "source": [
    "# Create child splits for a node or make terminal\n",
    "def split(node, max_depth, min_size, depth):\n",
    "    left, right = node['groups']\n",
    "    del(node['groups'])\n",
    "    # check for a no split\n",
    "    if not left or not right:\n",
    "        node['left'] = node['right'] = to_terminal(left + right)\n",
    "        return\n",
    "    # check for max depth\n",
    "    if depth >= max_depth:\n",
    "        node['left'], node['right'] = to_terminal(left), to_terminal(right)\n",
    "        return\n",
    "    # process left child\n",
    "    if len(left) <= min_size:\n",
    "        node['left'] = to_terminal(left)\n",
    "    else:\n",
    "        node['left'] = get_split(left)\n",
    "        split(node['left'], max_depth, min_size, depth+1)\n",
    "    # process right child\n",
    "    if len(right) <= min_size:\n",
    "        node['right'] = to_terminal(right)\n",
    "    else:\n",
    "        node['right'] = get_split(right)\n",
    "        split(node['right'], max_depth, min_size, depth+1)"
   ]
  },
  {
   "cell_type": "code",
   "execution_count": 15,
   "id": "drawn-moderator",
   "metadata": {},
   "outputs": [],
   "source": [
    "# Build a decision tree\n",
    "def build_tree(train, max_depth, min_size):\n",
    "    root = get_split(train)\n",
    "    split(root, max_depth, min_size, 1)\n",
    "    return root"
   ]
  },
  {
   "cell_type": "code",
   "execution_count": 16,
   "id": "harmful-empire",
   "metadata": {},
   "outputs": [
    {
     "name": "stdout",
     "output_type": "stream",
     "text": [
      "index: 0, value: 0.0, b_score: 0.5\n",
      "index: 0, value: 1.0, b_score: 0.4117647058823529\n",
      "index: 1, value: 1.0, b_score: 0.36263736263736274\n",
      "index: 2, value: 1.0, b_score: 0.2525252525252525\n",
      "index: 0, value: 0.0, b_score: 0.2975206611570247\n",
      "index: 0, value: 1.0, b_score: 0.2828282828282828\n",
      "index: 1, value: 1.0, b_score: 0.2424242424242424\n",
      "index: 0, value: 0.0, b_score: 0.4444444444444444\n",
      "index: 3, value: 27.0, b_score: 0.41666666666666663\n",
      "index: 3, value: 14.0, b_score: 0.4\n",
      "index: 3, value: 31.0, b_score: 0.26666666666666655\n",
      "index: 0, value: 0.0, b_score: 0.19753086419753085\n",
      "index: 0, value: 1.0, b_score: 0.0\n",
      "index: 0, value: 0.0, b_score: 0.0\n"
     ]
    }
   ],
   "source": [
    "tree=build_tree(dataset, 3, 5)"
   ]
  },
  {
   "cell_type": "code",
   "execution_count": 17,
   "id": "incomplete-guest",
   "metadata": {},
   "outputs": [
    {
     "data": {
      "text/plain": [
       "{'index': 2,\n",
       " 'value': 1.0,\n",
       " 'left': {'index': 1,\n",
       "  'value': 1.0,\n",
       "  'left': 1.0,\n",
       "  'right': {'index': 3, 'value': 31.0, 'left': 1.0, 'right': 0.0}},\n",
       " 'right': {'index': 0,\n",
       "  'value': 1.0,\n",
       "  'left': {'index': 0, 'value': 0.0, 'left': 0.0, 'right': 0.0},\n",
       "  'right': 1.0}}"
      ]
     },
     "execution_count": 17,
     "metadata": {},
     "output_type": "execute_result"
    }
   ],
   "source": [
    "tree"
   ]
  },
  {
   "cell_type": "code",
   "execution_count": 18,
   "id": "abroad-worker",
   "metadata": {},
   "outputs": [],
   "source": [
    "# Print a decision tree\n",
    "def print_tree(node, depth=0):\n",
    "    if isinstance(node, dict):\n",
    "        print('%s[X%d < %.3f]' % ((depth*' ', (node['index']+1), node['value'])))\n",
    "        print_tree(node['left'], depth+1)\n",
    "        print_tree(node['right'], depth+1)\n",
    "    else:\n",
    "        print('%s[%s]' % ((depth*' ', node)))"
   ]
  },
  {
   "cell_type": "code",
   "execution_count": 19,
   "id": "third-symposium",
   "metadata": {},
   "outputs": [
    {
     "name": "stdout",
     "output_type": "stream",
     "text": [
      "   [X3 < 1.000]\n",
      "    [X2 < 1.000]\n",
      "     [1.0]\n",
      "     [X4 < 31.000]\n",
      "      [1.0]\n",
      "      [0.0]\n",
      "    [X1 < 1.000]\n",
      "     [X1 < 0.000]\n",
      "      [0.0]\n",
      "      [0.0]\n",
      "     [1.0]\n"
     ]
    }
   ],
   "source": [
    "print_tree(tree, 3)"
   ]
  },
  {
   "cell_type": "markdown",
   "id": "psychological-therapy",
   "metadata": {},
   "source": [
    "# Let's Use Sklearn"
   ]
  },
  {
   "cell_type": "code",
   "execution_count": 23,
   "id": "subtle-motel",
   "metadata": {},
   "outputs": [],
   "source": [
    "from sklearn import tree\n",
    "clf = tree.DecisionTreeClassifier(max_depth=3, min_samples_split=5)\n",
    "clf = clf.fit(X, y)"
   ]
  },
  {
   "cell_type": "code",
   "execution_count": 24,
   "id": "happy-funeral",
   "metadata": {},
   "outputs": [
    {
     "data": {
      "text/plain": [
       "[Text(167.4, 190.26, 'X[2] <= 0.5\\ngini = 0.5\\nsamples = 20\\nvalue = [10, 10]'),\n",
       " Text(83.7, 135.9, 'X[1] <= 0.5\\ngini = 0.298\\nsamples = 11\\nvalue = [2, 9]'),\n",
       " Text(41.85, 81.53999999999999, 'gini = 0.0\\nsamples = 5\\nvalue = [0, 5]'),\n",
       " Text(125.55000000000001, 81.53999999999999, 'X[4] <= 17.35\\ngini = 0.444\\nsamples = 6\\nvalue = [2, 4]'),\n",
       " Text(83.7, 27.180000000000007, 'gini = 0.32\\nsamples = 5\\nvalue = [1, 4]'),\n",
       " Text(167.4, 27.180000000000007, 'gini = 0.0\\nsamples = 1\\nvalue = [1, 0]'),\n",
       " Text(251.10000000000002, 135.9, 'X[0] <= 0.5\\ngini = 0.198\\nsamples = 9\\nvalue = [8, 1]'),\n",
       " Text(209.25, 81.53999999999999, 'gini = 0.0\\nsamples = 8\\nvalue = [8, 0]'),\n",
       " Text(292.95, 81.53999999999999, 'gini = 0.0\\nsamples = 1\\nvalue = [0, 1]')]"
      ]
     },
     "execution_count": 24,
     "metadata": {},
     "output_type": "execute_result"
    },
    {
     "data": {
      "image/png": "[encoded data removed]",
      "text/plain": [
       "<Figure size 432x288 with 1 Axes>"
      ]
     },
     "metadata": {
      "needs_background": "light"
     },
     "output_type": "display_data"
    }
   ],
   "source": [
    "# Plot it\n",
    "tree.plot_tree(clf) "
   ]
  },
  {
   "cell_type": "code",
   "execution_count": 26,
   "id": "automotive-lawrence",
   "metadata": {},
   "outputs": [
    {
     "data": {
      "text/plain": [
       "array([0., 1., 1., 1., 0., 0., 0., 0., 1., 1., 1., 1., 0., 0., 1., 1., 0.,\n",
       "       1., 0., 1.])"
      ]
     },
     "execution_count": 26,
     "metadata": {},
     "output_type": "execute_result"
    }
   ],
   "source": [
    "clf.predict(X)"
   ]
  },
  {
   "cell_type": "code",
   "execution_count": null,
   "id": "discrete-document",
   "metadata": {},
   "outputs": [],
   "source": []
  }
 ],
 "metadata": {
  "kernelspec": {
   "display_name": "Python 3",
   "language": "python",
   "name": "python3"
  },
  "language_info": {
   "codemirror_mode": {
    "name": "ipython",
    "version": 3
   },
   "file_extension": ".py",
   "mimetype": "text/x-python",
   "name": "python",
   "nbconvert_exporter": "python",
   "pygments_lexer": "ipython3",
   "version": "3.7.3"
  }
 },
 "nbformat": 4,
 "nbformat_minor": 5
}
